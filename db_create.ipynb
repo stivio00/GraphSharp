{
 "cells": [
  {
   "cell_type": "code",
   "execution_count": null,
   "metadata": {
    "dotnet_interactive": {
     "language": "csharp"
    }
   },
   "outputs": [
    {
     "data": {
      "text/html": [
       "<div><div></div><div></div><div><strong>Installed Packages</strong><ul><li><span>Dapper, 2.0.123</span></li><li><span>Humanizer, 2.14.1</span></li><li><span>Microsoft.Data.Sqlite, 6.0.2</span></li></ul></div></div>"
      ]
     },
     "metadata": {},
     "output_type": "display_data"
    }
   ],
   "source": [
    "#r \"nuget: Microsoft.Data.Sqlite, 6.0.2\"\n",
    "#r \"nuget: Dapper, 2.0.123\"\n",
    "#r \"nuget: Humanizer, 2.14.1\""
   ]
  },
  {
   "cell_type": "code",
   "execution_count": null,
   "metadata": {
    "dotnet_interactive": {
     "language": "csharp"
    }
   },
   "outputs": [],
   "source": [
    "using Microsoft.Data.Sqlite;\n",
    "using Dapper;\n",
    "using Humanizer;\n",
    "using System.IO;\n",
    "using System.Reflection;\n",
    "using System.Globalization;"
   ]
  },
  {
   "cell_type": "code",
   "execution_count": null,
   "metadata": {
    "dotnet_interactive": {
     "language": "csharp"
    }
   },
   "outputs": [],
   "source": [
    "record Node(int NodeId, int NodeParentId, string Tag){\n",
    "    public Node():this(0,0,\"\"){}\n",
    "}"
   ]
  },
  {
   "cell_type": "code",
   "execution_count": null,
   "metadata": {
    "dotnet_interactive": {
     "language": "csharp"
    }
   },
   "outputs": [],
   "source": [
    "List<Node> nodes  = new (){ \n",
    "    new(){NodeId=1,NodeParentId=0, Tag=\"root\"} ,\n",
    "    new(){NodeId=2,NodeParentId=1} ,\n",
    "    new(){NodeId=3,NodeParentId=1} ,\n",
    "    new(){NodeId=4,NodeParentId=2} ,\n",
    "    new(){NodeId=5,NodeParentId=2} \n",
    "};"
   ]
  },
  {
   "cell_type": "code",
   "execution_count": null,
   "metadata": {
    "dotnet_interactive": {
     "language": "csharp"
    }
   },
   "outputs": [],
   "source": [
    "var connection = new SqliteConnection(\"Data Source=graph.db\");\n"
   ]
  },
  {
   "cell_type": "code",
   "execution_count": null,
   "metadata": {
    "dotnet_interactive": {
     "language": "csharp"
    }
   },
   "outputs": [],
   "source": [
    "string TypeToSql<T>(Dictionary<Type,string> typeMapper=null)\n",
    "{\n",
    "    Type type = typeof(T);\n",
    "    StringBuilder sb = new();\n",
    "\n",
    "    if (typeMapper is null) //sqlite\n",
    "    {\n",
    "        typeMapper = new Dictionary<Type,string>();\n",
    "        typeMapper.Add(typeof(string), \"text\");\n",
    "        typeMapper.Add(typeof(int), \"int\");\n",
    "    }\n",
    "\n",
    "    sb.Append(\"CREATE TABLE \" + type.Name.Pluralize() + \" (\\n\");\n",
    "\n",
    "    foreach(PropertyInfo propertyinfo in type.GetProperties())\n",
    "    {\n",
    "        Type propType = propertyinfo.PropertyType;\n",
    "        string sqlType = typeMapper.ContainsKey(propType) ? typeMapper[propType] : \"text\";\n",
    "        sb.AppendLine(\"\\t\" + propertyinfo.Name + \" \" + sqlType + \",\");\n",
    "    }\n",
    "\n",
    "    sb.Remove(sb.Length - 2, 2);\n",
    "    \n",
    "    sb.AppendLine(\"\\n);\");\n",
    "    return sb.ToString();\n",
    "}"
   ]
  },
  {
   "cell_type": "code",
   "execution_count": null,
   "metadata": {
    "dotnet_interactive": {
     "language": "csharp"
    }
   },
   "outputs": [
    {
     "data": {
      "text/html": [
       "<div class=\"dni-plaintext\">1</div>"
      ]
     },
     "metadata": {},
     "output_type": "display_data"
    }
   ],
   "source": [
    "connection.Execute(\"DROP TABLE Nodes;\");\n",
    "connection.Execute(TypeToSql<Node>())"
   ]
  },
  {
   "cell_type": "code",
   "execution_count": null,
   "metadata": {
    "dotnet_interactive": {
     "language": "csharp"
    }
   },
   "outputs": [],
   "source": [
    "foreach (Node n in nodes){\n",
    "    connection.Execute(\"INSERT INTO Nodes VALUEs (@NodeId, @NodeParentId, @Tag);\", n);\n",
    "}"
   ]
  },
  {
   "cell_type": "code",
   "execution_count": null,
   "metadata": {
    "dotnet_interactive": {
     "language": "csharp"
    }
   },
   "outputs": [],
   "source": [
    "Dictionary<int, List<int>> GetAdjList(IEnumerable<Node> nodes){\n",
    "    Dictionary<int, List<int>> output = new();\n",
    "    foreach(Node node in nodes){\n",
    "        if (output.ContainsKey(node.NodeParentId)){\n",
    "            output[node.NodeParentId].Add(node.NodeId);\n",
    "        }\n",
    "        else\n",
    "        {\n",
    "            output.Add(node.NodeParentId, new List<int>());\n",
    "            output[node.NodeParentId].Add(node.NodeId);\n",
    "        }\n",
    "    }\n",
    "    return output;\n",
    "}\n",
    "\n",
    "string ToMermaid(IEnumerable<Node> nodes){\n",
    "    StringBuilder sb = new();\n",
    "    sb.AppendLine(\"graph LR\");\n",
    "    foreach(Node node in nodes){\n",
    "        var tag =  node.Tag == \"\"?node.NodeId.ToString(): node.Tag; \n",
    "        sb.AppendLine($\"\\t{node.NodeParentId} --- {node.NodeId}({tag})\");\n",
    "    }\n",
    "    return sb.ToString();\n",
    "}\n",
    "\n"
   ]
  },
  {
   "cell_type": "code",
   "execution_count": null,
   "metadata": {
    "dotnet_interactive": {
     "language": "csharp"
    }
   },
   "outputs": [],
   "source": [
    "class Node<T> {\n",
    "    public T Value {get; set;}\n",
    "    public List<Node<T>> Children {get;} \n",
    "    public Node () {Children = new List<Node<T>>();}\n",
    "}"
   ]
  },
  {
   "cell_type": "code",
   "execution_count": null,
   "metadata": {
    "dotnet_interactive": {
     "language": "csharp"
    }
   },
   "outputs": [],
   "source": [
    "new Node<string>()"
   ]
  }
 ],
 "metadata": {
  "kernelspec": {
   "display_name": ".NET (C#)",
   "language": "C#",
   "name": ".net-csharp"
  },
  "language_info": {
   "file_extension": ".cs",
   "mimetype": "text/x-csharp",
   "name": "C#",
   "pygments_lexer": "csharp",
   "version": "9.0"
  },
  "orig_nbformat": 4
 },
 "nbformat": 4,
 "nbformat_minor": 2
}
